{
 "cells": [
  {
   "cell_type": "markdown",
   "metadata": {},
   "source": [
    "# Modeling Pass The Pigs"
   ]
  },
  {
   "cell_type": "markdown",
   "metadata": {},
   "source": [
    "After hours of playing this game at a house-warming party, and again playing it for class, I decided why not figure out a way I can be the best there ever was."
   ]
  },
  {
   "cell_type": "markdown",
   "metadata": {},
   "source": [
    "The information on how to play and what the game is can be found here:\n",
    "https://en.wikipedia.org/wiki/Pass_the_Pigs.\n",
    "Essentially this game is dice with pigs instead of dice."
   ]
  },
  {
   "cell_type": "markdown",
   "metadata": {},
   "source": [
    "## Strategy"
   ]
  },
  {
   "cell_type": "markdown",
   "metadata": {},
   "source": [
    "* Get input data from my class\n",
    "    * Look for probabilities of outcomes for each dice\n",
    "    * Maybe look at distributions for outcomes of each dice roll\n",
    "* Simulate\n",
    "* ??\n",
    "\n"
   ]
  },
  {
   "cell_type": "markdown",
   "metadata": {},
   "source": [
    "## Read the Data"
   ]
  },
  {
   "cell_type": "markdown",
   "metadata": {},
   "source": [
    "First we read in the data from all teams in my class."
   ]
  },
  {
   "cell_type": "code",
   "execution_count": 1,
   "metadata": {},
   "outputs": [
    {
     "data": {
      "text/html": [
       "<div>\n",
       "<style scoped>\n",
       "    .dataframe tbody tr th:only-of-type {\n",
       "        vertical-align: middle;\n",
       "    }\n",
       "\n",
       "    .dataframe tbody tr th {\n",
       "        vertical-align: top;\n",
       "    }\n",
       "\n",
       "    .dataframe thead th {\n",
       "        text-align: right;\n",
       "    }\n",
       "</style>\n",
       "<table border=\"1\" class=\"dataframe\">\n",
       "  <thead>\n",
       "    <tr style=\"text-align: right;\">\n",
       "      <th></th>\n",
       "      <th>dot</th>\n",
       "      <th>dot_f</th>\n",
       "      <th>razorback</th>\n",
       "      <th>trotter</th>\n",
       "      <th>snouter</th>\n",
       "      <th>leaning_jowler</th>\n",
       "      <th>other</th>\n",
       "    </tr>\n",
       "  </thead>\n",
       "  <tbody>\n",
       "    <tr>\n",
       "      <th>0</th>\n",
       "      <td>38</td>\n",
       "      <td>52</td>\n",
       "      <td>45</td>\n",
       "      <td>17</td>\n",
       "      <td>2</td>\n",
       "      <td>0</td>\n",
       "      <td>1</td>\n",
       "    </tr>\n",
       "    <tr>\n",
       "      <th>1</th>\n",
       "      <td>19</td>\n",
       "      <td>32</td>\n",
       "      <td>32</td>\n",
       "      <td>4</td>\n",
       "      <td>3</td>\n",
       "      <td>0</td>\n",
       "      <td>0</td>\n",
       "    </tr>\n",
       "    <tr>\n",
       "      <th>2</th>\n",
       "      <td>14</td>\n",
       "      <td>26</td>\n",
       "      <td>20</td>\n",
       "      <td>7</td>\n",
       "      <td>3</td>\n",
       "      <td>0</td>\n",
       "      <td>2</td>\n",
       "    </tr>\n",
       "    <tr>\n",
       "      <th>3</th>\n",
       "      <td>14</td>\n",
       "      <td>21</td>\n",
       "      <td>25</td>\n",
       "      <td>5</td>\n",
       "      <td>1</td>\n",
       "      <td>0</td>\n",
       "      <td>3</td>\n",
       "    </tr>\n",
       "    <tr>\n",
       "      <th>4</th>\n",
       "      <td>15</td>\n",
       "      <td>27</td>\n",
       "      <td>40</td>\n",
       "      <td>13</td>\n",
       "      <td>5</td>\n",
       "      <td>0</td>\n",
       "      <td>0</td>\n",
       "    </tr>\n",
       "    <tr>\n",
       "      <th>5</th>\n",
       "      <td>32</td>\n",
       "      <td>45</td>\n",
       "      <td>43</td>\n",
       "      <td>10</td>\n",
       "      <td>9</td>\n",
       "      <td>0</td>\n",
       "      <td>0</td>\n",
       "    </tr>\n",
       "    <tr>\n",
       "      <th>6</th>\n",
       "      <td>16</td>\n",
       "      <td>24</td>\n",
       "      <td>20</td>\n",
       "      <td>6</td>\n",
       "      <td>1</td>\n",
       "      <td>1</td>\n",
       "      <td>2</td>\n",
       "    </tr>\n",
       "    <tr>\n",
       "      <th>7</th>\n",
       "      <td>16</td>\n",
       "      <td>50</td>\n",
       "      <td>53</td>\n",
       "      <td>13</td>\n",
       "      <td>4</td>\n",
       "      <td>1</td>\n",
       "      <td>0</td>\n",
       "    </tr>\n",
       "    <tr>\n",
       "      <th>8</th>\n",
       "      <td>24</td>\n",
       "      <td>23</td>\n",
       "      <td>17</td>\n",
       "      <td>7</td>\n",
       "      <td>0</td>\n",
       "      <td>3</td>\n",
       "      <td>0</td>\n",
       "    </tr>\n",
       "    <tr>\n",
       "      <th>9</th>\n",
       "      <td>13</td>\n",
       "      <td>25</td>\n",
       "      <td>38</td>\n",
       "      <td>12</td>\n",
       "      <td>3</td>\n",
       "      <td>2</td>\n",
       "      <td>4</td>\n",
       "    </tr>\n",
       "    <tr>\n",
       "      <th>10</th>\n",
       "      <td>14</td>\n",
       "      <td>25</td>\n",
       "      <td>22</td>\n",
       "      <td>4</td>\n",
       "      <td>1</td>\n",
       "      <td>0</td>\n",
       "      <td>2</td>\n",
       "    </tr>\n",
       "  </tbody>\n",
       "</table>\n",
       "</div>"
      ],
      "text/plain": [
       "    dot  dot_f  razorback  trotter  snouter  leaning_jowler  other\n",
       "0    38     52         45       17        2               0      1\n",
       "1    19     32         32        4        3               0      0\n",
       "2    14     26         20        7        3               0      2\n",
       "3    14     21         25        5        1               0      3\n",
       "4    15     27         40       13        5               0      0\n",
       "5    32     45         43       10        9               0      0\n",
       "6    16     24         20        6        1               1      2\n",
       "7    16     50         53       13        4               1      0\n",
       "8    24     23         17        7        0               3      0\n",
       "9    13     25         38       12        3               2      4\n",
       "10   14     25         22        4        1               0      2"
      ]
     },
     "execution_count": 1,
     "metadata": {},
     "output_type": "execute_result"
    }
   ],
   "source": [
    "import pandas as pd\n",
    "\n",
    "data = pd.read_csv(\"pass_the_pigs.csv\")\n",
    "data"
   ]
  },
  {
   "cell_type": "markdown",
   "metadata": {},
   "source": [
    "Even though the data looks a bit uneven, we find the percentage that each outcome was found as well as the standard deviation for each outcome for each class."
   ]
  },
  {
   "cell_type": "code",
   "execution_count": 2,
   "metadata": {},
   "outputs": [],
   "source": [
    "total_rolls = data.values.sum()\n",
    "\n",
    "#keys for shorthand, I may want to actually type these out in future or just use a basic conversion\n",
    "keys = {\n",
    "    'dot' : 'dot',\n",
    "    'dot_f' : 'nod',\n",
    "    'razorback' : 'rzb',\n",
    "    'trotter' : 'ttr',\n",
    "    'snouter' : 'str',\n",
    "    'leaning_jowler' : 'ljw',\n",
    "    'other' : 'otr'\n",
    "}\n",
    "\n",
    "#find percentages for each row to calculate standard deviation\n",
    "cols = list(keys.keys())\n",
    "shortcut = list(keys.values())\n",
    "\n",
    "pct_data = data\n",
    "pct_data[cols] = data[cols].div(data[cols].sum(axis=1), axis=0)\n",
    "\n",
    "pct_std = pd.DataFrame([pct_data[cols].std()])\n",
    "total_pct = pd.DataFrame([pct_data[cols].mean()])\n",
    "\n",
    "pct_std.rename(columns=keys, inplace='True')\n",
    "total_pct.rename(columns=keys, inplace='True')\n",
    "\n",
    "# input of relative frequencies from wikipedia\n",
    "wiki_pct = pd.DataFrame.from_dict({\n",
    "    'dot' : [.349],\n",
    "    'nod' : [.302],\n",
    "    'rzb' : [.224],\n",
    "    'ttr' : [.088],\n",
    "    'str' : [.030],\n",
    "    'ljw' : [.0061],\n",
    "    'otr' : [.0009]\n",
    "})"
   ]
  },
  {
   "cell_type": "code",
   "execution_count": 3,
   "metadata": {},
   "outputs": [
    {
     "data": {
      "text/html": [
       "<div>\n",
       "<style scoped>\n",
       "    .dataframe tbody tr th:only-of-type {\n",
       "        vertical-align: middle;\n",
       "    }\n",
       "\n",
       "    .dataframe tbody tr th {\n",
       "        vertical-align: top;\n",
       "    }\n",
       "\n",
       "    .dataframe thead th {\n",
       "        text-align: right;\n",
       "    }\n",
       "</style>\n",
       "<table border=\"1\" class=\"dataframe\">\n",
       "  <thead>\n",
       "    <tr style=\"text-align: right;\">\n",
       "      <th></th>\n",
       "      <th>dot</th>\n",
       "      <th>nod</th>\n",
       "      <th>rzb</th>\n",
       "      <th>ttr</th>\n",
       "      <th>str</th>\n",
       "      <th>ljw</th>\n",
       "      <th>otr</th>\n",
       "    </tr>\n",
       "  </thead>\n",
       "  <tbody>\n",
       "    <tr>\n",
       "      <th>0</th>\n",
       "      <td>0.057471</td>\n",
       "      <td>0.03772</td>\n",
       "      <td>0.055139</td>\n",
       "      <td>0.026299</td>\n",
       "      <td>0.019023</td>\n",
       "      <td>0.013052</td>\n",
       "      <td>0.017999</td>\n",
       "    </tr>\n",
       "  </tbody>\n",
       "</table>\n",
       "</div>"
      ],
      "text/plain": [
       "        dot      nod       rzb       ttr       str       ljw       otr\n",
       "0  0.057471  0.03772  0.055139  0.026299  0.019023  0.013052  0.017999"
      ]
     },
     "execution_count": 3,
     "metadata": {},
     "output_type": "execute_result"
    }
   ],
   "source": [
    "#Standard Deviations of each proportion\n",
    "pct_std"
   ]
  },
  {
   "cell_type": "code",
   "execution_count": 4,
   "metadata": {
    "scrolled": true
   },
   "outputs": [
    {
     "data": {
      "text/html": [
       "<div>\n",
       "<style scoped>\n",
       "    .dataframe tbody tr th:only-of-type {\n",
       "        vertical-align: middle;\n",
       "    }\n",
       "\n",
       "    .dataframe tbody tr th {\n",
       "        vertical-align: top;\n",
       "    }\n",
       "\n",
       "    .dataframe thead th {\n",
       "        text-align: right;\n",
       "    }\n",
       "</style>\n",
       "<table border=\"1\" class=\"dataframe\">\n",
       "  <thead>\n",
       "    <tr style=\"text-align: right;\">\n",
       "      <th></th>\n",
       "      <th>dot</th>\n",
       "      <th>nod</th>\n",
       "      <th>rzb</th>\n",
       "      <th>ttr</th>\n",
       "      <th>str</th>\n",
       "      <th>ljw</th>\n",
       "      <th>otr</th>\n",
       "    </tr>\n",
       "  </thead>\n",
       "  <tbody>\n",
       "    <tr>\n",
       "      <th>0</th>\n",
       "      <td>0.203947</td>\n",
       "      <td>0.32675</td>\n",
       "      <td>0.328447</td>\n",
       "      <td>0.089408</td>\n",
       "      <td>0.027842</td>\n",
       "      <td>0.007522</td>\n",
       "      <td>0.016084</td>\n",
       "    </tr>\n",
       "  </tbody>\n",
       "</table>\n",
       "</div>"
      ],
      "text/plain": [
       "        dot      nod       rzb       ttr       str       ljw       otr\n",
       "0  0.203947  0.32675  0.328447  0.089408  0.027842  0.007522  0.016084"
      ]
     },
     "execution_count": 4,
     "metadata": {},
     "output_type": "execute_result"
    }
   ],
   "source": [
    "#total proportions or the average proportion of values\n",
    "total_pct"
   ]
  },
  {
   "cell_type": "markdown",
   "metadata": {},
   "source": [
    "https://en.wikipedia.org/wiki/Pass_the_Pigs#Relative_frequencies"
   ]
  },
  {
   "cell_type": "code",
   "execution_count": 5,
   "metadata": {},
   "outputs": [
    {
     "data": {
      "text/html": [
       "<div>\n",
       "<style scoped>\n",
       "    .dataframe tbody tr th:only-of-type {\n",
       "        vertical-align: middle;\n",
       "    }\n",
       "\n",
       "    .dataframe tbody tr th {\n",
       "        vertical-align: top;\n",
       "    }\n",
       "\n",
       "    .dataframe thead th {\n",
       "        text-align: right;\n",
       "    }\n",
       "</style>\n",
       "<table border=\"1\" class=\"dataframe\">\n",
       "  <thead>\n",
       "    <tr style=\"text-align: right;\">\n",
       "      <th></th>\n",
       "      <th>dot</th>\n",
       "      <th>nod</th>\n",
       "      <th>rzb</th>\n",
       "      <th>ttr</th>\n",
       "      <th>str</th>\n",
       "      <th>ljw</th>\n",
       "      <th>otr</th>\n",
       "    </tr>\n",
       "  </thead>\n",
       "  <tbody>\n",
       "    <tr>\n",
       "      <th>0</th>\n",
       "      <td>0.349</td>\n",
       "      <td>0.302</td>\n",
       "      <td>0.224</td>\n",
       "      <td>0.088</td>\n",
       "      <td>0.03</td>\n",
       "      <td>0.0061</td>\n",
       "      <td>0.0009</td>\n",
       "    </tr>\n",
       "  </tbody>\n",
       "</table>\n",
       "</div>"
      ],
      "text/plain": [
       "     dot    nod    rzb    ttr   str     ljw     otr\n",
       "0  0.349  0.302  0.224  0.088  0.03  0.0061  0.0009"
      ]
     },
     "execution_count": 5,
     "metadata": {},
     "output_type": "execute_result"
    }
   ],
   "source": [
    "#relative frequencies from Wikipedia \n",
    "wiki_pct"
   ]
  },
  {
   "cell_type": "markdown",
   "metadata": {},
   "source": [
    "What we have now are sampling distributions of the proportions from a sample of size 14 in DataFrames."
   ]
  },
  {
   "cell_type": "markdown",
   "metadata": {},
   "source": [
    "## Strategies"
   ]
  },
  {
   "cell_type": "markdown",
   "metadata": {},
   "source": [
    "A few possible strategies to look at (these may be updated):\n",
    "\n",
    "    1) Roll until we hit 100\n",
    "    2) Roll until we hit 20\n",
    "    3) Roll until the EV is negative\n",
    "    4) ..."
   ]
  },
  {
   "cell_type": "markdown",
   "metadata": {},
   "source": [
    "## Expected Values"
   ]
  },
  {
   "cell_type": "markdown",
   "metadata": {},
   "source": [
    "First, we take a look at the expected value for rolling two pigs with a given score. This is a combination of score and probability. This should also inform a possible strategy for simulation. https://en.wikipedia.org/wiki/Pass_the_Pigs#Scoring"
   ]
  },
  {
   "cell_type": "code",
   "execution_count": 6,
   "metadata": {},
   "outputs": [
    {
     "data": {
      "text/plain": [
       "5.85151971969931"
      ]
     },
     "execution_count": 6,
     "metadata": {},
     "output_type": "execute_result"
    }
   ],
   "source": [
    "scores = {\n",
    "        'dot' : 1,\n",
    "        'nod' : 1,\n",
    "        'rzb' : 5,\n",
    "        'ttr' : 5,\n",
    "        'str' : 10,\n",
    "        'ljw' : 15,\n",
    "        'otr' : 0\n",
    "    }\n",
    "\n",
    "def score(r1, r2, current_score=0):\n",
    "    \n",
    "    score = 0\n",
    "    if r1 == r2:\n",
    "        if r1 == 'dot' or r1 == 'nod':\n",
    "            score = 1\n",
    "        else:\n",
    "            score = scores[r1] * 4\n",
    "    else:\n",
    "        if 'dot' in (r1+r2) and 'nod' in (r1+r2):\n",
    "            score = -1 * current_score\n",
    "        else:\n",
    "            score = max(scores[r1], scores[r2])\n",
    "    return score\n",
    "            \n",
    "def expected_value(pct,current_score=0):\n",
    "    total_score = 0\n",
    "\n",
    "    #treat this as a global -- maybe change for style later\n",
    "    for c1 in shortcut:\n",
    "        for c2 in shortcut:\n",
    "            total_score += score(c1,c2,current_score) * (pct[c1][0] * pct[c2][0])\n",
    "    return total_score\n",
    "\n",
    "expected_value(total_pct, 0)\n",
    "        \n"
   ]
  },
  {
   "cell_type": "markdown",
   "metadata": {},
   "source": [
    "## Defining Strategies"
   ]
  },
  {
   "cell_type": "markdown",
   "metadata": {},
   "source": [
    "1) Roll until we hit 100 (we win)"
   ]
  },
  {
   "cell_type": "markdown",
   "metadata": {},
   "source": [
    "2) Roll until we hit an arbitrary number (stop_at_n)"
   ]
  },
  {
   "cell_type": "code",
   "execution_count": 7,
   "metadata": {},
   "outputs": [],
   "source": [
    "def stop_at_n(current_score, n=20, pct=total_pct):\n",
    "    return current_score >= n"
   ]
  },
  {
   "cell_type": "markdown",
   "metadata": {},
   "source": [
    "3) Roll until expected value is zero or negative (not used)"
   ]
  },
  {
   "cell_type": "code",
   "execution_count": 8,
   "metadata": {},
   "outputs": [],
   "source": [
    "def ev_strat(current_score, n=0, pct=total_pct):\n",
    "    return expected_value(pct,current_score) > 0\n"
   ]
  },
  {
   "cell_type": "code",
   "execution_count": 9,
   "metadata": {
    "scrolled": true
   },
   "outputs": [
    {
     "name": "stdout",
     "output_type": "stream",
     "text": [
      "score where EX = 0: 43\n"
     ]
    }
   ],
   "source": [
    "cur = 0\n",
    "while expected_value(total_pct,cur) > 0:\n",
    "    cur +=1\n",
    "print(f'score where EX = 0: {cur}')"
   ]
  },
  {
   "cell_type": "markdown",
   "metadata": {},
   "source": [
    "What if our class data is not accurate?"
   ]
  },
  {
   "cell_type": "code",
   "execution_count": 10,
   "metadata": {},
   "outputs": [
    {
     "name": "stdout",
     "output_type": "stream",
     "text": [
      "score where EX = 0: 21\n"
     ]
    }
   ],
   "source": [
    "cur = 0\n",
    "while expected_value(wiki_pct,cur) > 0:\n",
    "    cur +=1\n",
    "print(f'score where EX = 0: {cur}')"
   ]
  },
  {
   "cell_type": "code",
   "execution_count": null,
   "metadata": {},
   "outputs": [],
   "source": []
  },
  {
   "cell_type": "markdown",
   "metadata": {},
   "source": [
    "## Simulation"
   ]
  },
  {
   "cell_type": "markdown",
   "metadata": {},
   "source": [
    "Let's make a simulation employing each strategy"
   ]
  },
  {
   "cell_type": "code",
   "execution_count": 11,
   "metadata": {},
   "outputs": [
    {
     "name": "stdout",
     "output_type": "stream",
     "text": [
      "turn: 20\t total:0\n",
      "turn: 20\t total:20\n",
      "turn: 22\t total:40\n",
      "turn: 0\t total:62\n",
      "turn: 20\t total:62\n",
      "turn: 36\t total:82\n",
      "6\n"
     ]
    }
   ],
   "source": [
    "import numpy as np\n",
    "\n",
    "def roll_pigs(pct=total_pct, current_score=0):\n",
    "    # for scoring\n",
    "    sim_pct = pct.cumsum(axis = 1)\n",
    "    \n",
    "    #determine the rolls \n",
    "    [roll1, roll2] = ['','']\n",
    "    #use a uniform distribution opposite of the cumulative sum s.t. we get a type of roll\n",
    "    [rand1, rand2] = [np.random.uniform(), np.random.uniform()]\n",
    "    for col in shortcut:\n",
    "        if rand1 < sim_pct[col][0] and roll1 == '':\n",
    "            roll1 = col\n",
    "        if rand2 < sim_pct[col][0] and roll2 == '':\n",
    "            roll2 = col\n",
    "    return score(roll1, roll2, current_score)\n",
    "\n",
    "def simulation_run(strat, n=20, pct=total_pct, logs=False):\n",
    "    #note-to-self strat.call()\n",
    "    \n",
    "    turns = 0 #let's count the number of turns it takes to reach 100\n",
    "    \n",
    "    total_score = 0\n",
    "    \n",
    "    while total_score <= 100:\n",
    "        turns += 1\n",
    "        turn_score = 0\n",
    "        while not strat(turn_score, n=n, pct=pct):\n",
    "            current_score = roll_pigs(pct=pct, current_score=turn_score)\n",
    "            turn_score += current_score\n",
    "            if current_score < 0:\n",
    "                break\n",
    "        if logs:\n",
    "            print(f'turn: {turn_score}\\t total:{total_score}')\n",
    "        total_score += turn_score\n",
    "        \n",
    "    return turns\n",
    "\n",
    "\n",
    "\n",
    "print(simulation_run(stop_at_n, logs=True))"
   ]
  },
  {
   "cell_type": "code",
   "execution_count": 12,
   "metadata": {},
   "outputs": [],
   "source": [
    "def monte_carlo(m=100,strat=stop_at_n, n=20, pct=total_pct):\n",
    "    results = []\n",
    "    for i in range(0,m):\n",
    "        results.append(simulation_run(strat,pct=pct, n=n))\n",
    "    return results"
   ]
  },
  {
   "cell_type": "markdown",
   "metadata": {},
   "source": [
    "Let's try the simulation for 1000 runs of the safe strategy"
   ]
  },
  {
   "cell_type": "code",
   "execution_count": 20,
   "metadata": {},
   "outputs": [
    {
     "data": {
      "text/plain": [
       "[7, 6, 4, 6, 8, 6, 4, 11, 5, 9]"
      ]
     },
     "execution_count": 20,
     "metadata": {},
     "output_type": "execute_result"
    }
   ],
   "source": [
    "results = monte_carlo(m=1000,strat =stop_at_n, n=20)\n",
    "results[0:10]"
   ]
  },
  {
   "cell_type": "code",
   "execution_count": 21,
   "metadata": {},
   "outputs": [
    {
     "data": {
      "image/png": "[encoded data removed]",
      "text/plain": [
       "<Figure size 432x288 with 1 Axes>"
      ]
     },
     "metadata": {
      "needs_background": "light"
     },
     "output_type": "display_data"
    }
   ],
   "source": [
    "import matplotlib.pyplot as plt\n",
    "plt.hist(results,density = True, bins= 10)\n",
    "plt.xlabel('# of turns')\n",
    "plt.ylabel('Probability')\n",
    "plt.title('Histogram of turns taken to win with strategy of stopping @ 20 points')\n",
    "plt.show()"
   ]
  },
  {
   "cell_type": "code",
   "execution_count": 17,
   "metadata": {},
   "outputs": [
    {
     "data": {
      "image/png": "[encoded data removed]",
      "text/plain": [
       "<Figure size 432x288 with 1 Axes>"
      ]
     },
     "metadata": {
      "needs_background": "light"
     },
     "output_type": "display_data"
    }
   ],
   "source": [
    "results = monte_carlo(m=1000,strat=stop_at_n, n=15)\n",
    "\n",
    "plt.hist(results, density = True, bins= 10)\n",
    "plt.xlabel('# of turns')\n",
    "plt.ylabel('Probability')\n",
    "plt.title('Histogram of turns taken to win with strategy of stopping @ 15 points')\n",
    "plt.show()"
   ]
  },
  {
   "cell_type": "code",
   "execution_count": 19,
   "metadata": {},
   "outputs": [
    {
     "data": {
      "image/png": "[encoded data removed]",
      "text/plain": [
       "<Figure size 432x288 with 1 Axes>"
      ]
     },
     "metadata": {
      "needs_background": "light"
     },
     "output_type": "display_data"
    }
   ],
   "source": [
    "results = monte_carlo(m=1000,strat=stop_at_n,n=25)\n",
    "\n",
    "plt.hist(results, density =True, bins= 10)\n",
    "plt.xlabel('# of turns')\n",
    "plt.ylabel('Probability')\n",
    "plt.title('Histogram of turns taken to win with strategy of stopping @ 25 points')\n",
    "plt.show()"
   ]
  },
  {
   "cell_type": "code",
   "execution_count": 22,
   "metadata": {},
   "outputs": [
    {
     "name": "stdout",
     "output_type": "stream",
     "text": [
      "calcuating 15...\n",
      "mean of 15: 7.35\n",
      "\n",
      "calcuating 16...\n",
      "mean of 16: 7.024\n",
      "\n",
      "calcuating 17...\n",
      "mean of 17: 6.796\n",
      "\n",
      "calcuating 18...\n",
      "mean of 18: 6.758\n",
      "\n",
      "calcuating 19...\n",
      "mean of 19: 6.662\n",
      "\n",
      "calcuating 20...\n",
      "mean of 20: 6.698\n",
      "\n",
      "calcuating 21...\n",
      "mean of 21: 6.526\n",
      "\n",
      "calcuating 22...\n",
      "mean of 22: 6.376\n",
      "\n",
      "calcuating 23...\n",
      "mean of 23: 6.2\n",
      "\n",
      "calcuating 24...\n",
      "mean of 24: 6.304\n",
      "\n",
      "calcuating 25...\n",
      "mean of 25: 6.33\n",
      "\n",
      "calcuating 26...\n",
      "mean of 26: 6.196\n",
      "\n",
      "calcuating 27...\n",
      "mean of 27: 6.008\n",
      "\n",
      "calcuating 28...\n",
      "mean of 28: 5.962\n",
      "\n",
      "calcuating 29...\n",
      "mean of 29: 6.06\n",
      "\n"
     ]
    },
    {
     "data": {
      "text/plain": [
       "[7.35,\n",
       " 7.024,\n",
       " 6.796,\n",
       " 6.758,\n",
       " 6.662,\n",
       " 6.698,\n",
       " 6.526,\n",
       " 6.376,\n",
       " 6.2,\n",
       " 6.304,\n",
       " 6.33,\n",
       " 6.196,\n",
       " 6.008,\n",
       " 5.962,\n",
       " 6.06]"
      ]
     },
     "execution_count": 22,
     "metadata": {},
     "output_type": "execute_result"
    }
   ],
   "source": [
    "avg_turns = []\n",
    "std_turns = []\n",
    "\n",
    "rng = range(15,30)\n",
    "\n",
    "for i in rng:\n",
    "    print(f'calcuating {i}...')\n",
    "    cur_results = monte_carlo(m=500,strat=stop_at_n,n=i)\n",
    "    cur_mean = np.mean(cur_results)\n",
    "    cur_std = np.std(cur_results)\n",
    "    avg_turns.append(cur_mean)\n",
    "    std_turns.append(cur_std)\n",
    "    print(f'mean of {i}: {cur_mean}\\n')\n",
    "    \n",
    "avg_turns"
   ]
  },
  {
   "cell_type": "code",
   "execution_count": 23,
   "metadata": {},
   "outputs": [
    {
     "data": {
      "text/plain": [
       "Text(0.5, 0, 'score to stop at')"
      ]
     },
     "execution_count": 23,
     "metadata": {},
     "output_type": "execute_result"
    },
    {
     "data": {
      "image/png": "[encoded data removed]",
      "text/plain": [
       "<Figure size 432x288 with 1 Axes>"
      ]
     },
     "metadata": {
      "needs_background": "light"
     },
     "output_type": "display_data"
    }
   ],
   "source": [
    "plt.plot(rng,avg_turns, color ='blue')\n",
    "\n",
    "plt.ylabel('average # of turns')\n",
    "plt.xlabel('score to stop at')"
   ]
  },
  {
   "cell_type": "code",
   "execution_count": 24,
   "metadata": {},
   "outputs": [
    {
     "data": {
      "text/plain": [
       "Text(0.5, 0, 'score to stop at')"
      ]
     },
     "execution_count": 24,
     "metadata": {},
     "output_type": "execute_result"
    },
    {
     "data": {
      "image/png": "[encoded data removed]",
      "text/plain": [
       "<Figure size 432x288 with 1 Axes>"
      ]
     },
     "metadata": {
      "needs_background": "light"
     },
     "output_type": "display_data"
    }
   ],
   "source": [
    "plt.plot(rng,std_turns, color ='red')\n",
    "\n",
    "plt.ylabel('sd # of turns')\n",
    "plt.xlabel('score to stop at')"
   ]
  },
  {
   "cell_type": "code",
   "execution_count": 25,
   "metadata": {},
   "outputs": [
    {
     "name": "stdout",
     "output_type": "stream",
     "text": [
      "calcuating 25...\n",
      "mean of 25: 6.208\n",
      "\n",
      "calcuating 26...\n",
      "mean of 26: 6.172\n",
      "\n",
      "calcuating 27...\n",
      "mean of 27: 6.058\n",
      "\n",
      "calcuating 28...\n",
      "mean of 28: 6.062\n",
      "\n",
      "calcuating 29...\n",
      "mean of 29: 6.014\n",
      "\n",
      "calcuating 30...\n",
      "mean of 30: 6.306\n",
      "\n",
      "calcuating 31...\n",
      "mean of 31: 5.826\n",
      "\n",
      "calcuating 32...\n",
      "mean of 32: 5.796\n",
      "\n",
      "calcuating 33...\n",
      "mean of 33: 5.872\n",
      "\n",
      "calcuating 34...\n",
      "mean of 34: 5.956\n",
      "\n",
      "calcuating 35...\n",
      "mean of 35: 5.938\n",
      "\n",
      "calcuating 36...\n",
      "mean of 36: 5.948\n",
      "\n",
      "calcuating 37...\n",
      "mean of 37: 6.288\n",
      "\n",
      "calcuating 38...\n",
      "mean of 38: 6.284\n",
      "\n",
      "calcuating 39...\n",
      "mean of 39: 6.28\n",
      "\n",
      "calcuating 40...\n",
      "mean of 40: 6.332\n",
      "\n",
      "calcuating 41...\n",
      "mean of 41: 6.042\n",
      "\n",
      "calcuating 42...\n",
      "mean of 42: 6.35\n",
      "\n",
      "calcuating 43...\n",
      "mean of 43: 6.352\n",
      "\n",
      "calcuating 44...\n",
      "mean of 44: 6.374\n",
      "\n"
     ]
    },
    {
     "data": {
      "text/plain": [
       "[6.208,\n",
       " 6.172,\n",
       " 6.058,\n",
       " 6.062,\n",
       " 6.014,\n",
       " 6.306,\n",
       " 5.826,\n",
       " 5.796,\n",
       " 5.872,\n",
       " 5.956,\n",
       " 5.938,\n",
       " 5.948,\n",
       " 6.288,\n",
       " 6.284,\n",
       " 6.28,\n",
       " 6.332,\n",
       " 6.042,\n",
       " 6.35,\n",
       " 6.352,\n",
       " 6.374]"
      ]
     },
     "execution_count": 25,
     "metadata": {},
     "output_type": "execute_result"
    }
   ],
   "source": [
    "avg_turns = []\n",
    "std_turns = []\n",
    "\n",
    "rng = range(25,45)\n",
    "\n",
    "for i in rng:\n",
    "    print(f'calcuating {i}...')\n",
    "    cur_results = monte_carlo(m=500,strat=stop_at_n,n=i)\n",
    "    cur_mean = np.mean(cur_results)\n",
    "    cur_std = np.std(cur_results)\n",
    "    avg_turns.append(cur_mean)\n",
    "    std_turns.append(cur_std)\n",
    "    print(f'mean of {i}: {cur_mean}\\n')\n",
    "    \n",
    "avg_turns"
   ]
  },
  {
   "cell_type": "code",
   "execution_count": 26,
   "metadata": {},
   "outputs": [
    {
     "data": {
      "text/plain": [
       "Text(0.5, 0, 'score to stop at')"
      ]
     },
     "execution_count": 26,
     "metadata": {},
     "output_type": "execute_result"
    },
    {
     "data": {
      "image/png": "[encoded data removed]",
      "text/plain": [
       "<Figure size 432x288 with 1 Axes>"
      ]
     },
     "metadata": {
      "needs_background": "light"
     },
     "output_type": "display_data"
    }
   ],
   "source": [
    "plt.plot(rng,avg_turns, color = 'blue')\n",
    "plt.ylabel('average # of turns')\n",
    "plt.xlabel('score to stop at')"
   ]
  },
  {
   "cell_type": "code",
   "execution_count": 27,
   "metadata": {},
   "outputs": [
    {
     "data": {
      "text/plain": [
       "Text(0.5, 0, 'score to stop at')"
      ]
     },
     "execution_count": 27,
     "metadata": {},
     "output_type": "execute_result"
    },
    {
     "data": {
      "image/png": "[encoded data removed]",
      "text/plain": [
       "<Figure size 432x288 with 1 Axes>"
      ]
     },
     "metadata": {
      "needs_background": "light"
     },
     "output_type": "display_data"
    }
   ],
   "source": [
    "plt.plot(rng,std_turns, color = 'red')\n",
    "plt.ylabel('sd # of turns')\n",
    "plt.xlabel('score to stop at')"
   ]
  },
  {
   "cell_type": "markdown",
   "metadata": {},
   "source": [
    "Lets just simulate some data using the probabilities from wikipedia to make sure."
   ]
  },
  {
   "cell_type": "code",
   "execution_count": 29,
   "metadata": {},
   "outputs": [
    {
     "name": "stdout",
     "output_type": "stream",
     "text": [
      "calcuating 15...\n",
      "mean of 15: 9.712\n",
      "\n",
      "calcuating 16...\n",
      "mean of 16: 9.418\n",
      "\n",
      "calcuating 17...\n",
      "mean of 17: 9.598\n",
      "\n",
      "calcuating 18...\n",
      "mean of 18: 9.662\n",
      "\n",
      "calcuating 19...\n",
      "mean of 19: 9.534\n",
      "\n",
      "calcuating 20...\n",
      "mean of 20: 9.496\n",
      "\n",
      "calcuating 21...\n",
      "mean of 21: 9.738\n",
      "\n",
      "calcuating 22...\n",
      "mean of 22: 9.692\n",
      "\n",
      "calcuating 23...\n",
      "mean of 23: 9.66\n",
      "\n",
      "calcuating 24...\n",
      "mean of 24: 9.738\n",
      "\n",
      "calcuating 25...\n",
      "mean of 25: 9.61\n",
      "\n",
      "calcuating 26...\n",
      "mean of 26: 10.128\n",
      "\n",
      "calcuating 27...\n",
      "mean of 27: 9.872\n",
      "\n",
      "calcuating 28...\n",
      "mean of 28: 10.108\n",
      "\n",
      "calcuating 29...\n",
      "mean of 29: 10.616\n",
      "\n"
     ]
    },
    {
     "data": {
      "text/plain": [
       "[9.712,\n",
       " 9.418,\n",
       " 9.598,\n",
       " 9.662,\n",
       " 9.534,\n",
       " 9.496,\n",
       " 9.738,\n",
       " 9.692,\n",
       " 9.66,\n",
       " 9.738,\n",
       " 9.61,\n",
       " 10.128,\n",
       " 9.872,\n",
       " 10.108,\n",
       " 10.616]"
      ]
     },
     "execution_count": 29,
     "metadata": {},
     "output_type": "execute_result"
    }
   ],
   "source": [
    "avg_turns = []\n",
    "std_turns = []\n",
    "\n",
    "rng = range(15,30)\n",
    "\n",
    "for i in rng:\n",
    "    print(f'calcuating {i}...')\n",
    "    cur_results = monte_carlo(m=500,pct=wiki_pct,strat=stop_at_n,n=i)\n",
    "    cur_mean = np.mean(cur_results)\n",
    "    cur_std = np.std(cur_results)\n",
    "    avg_turns.append(cur_mean)\n",
    "    std_turns.append(cur_std)\n",
    "    print(f'mean of {i}: {cur_mean}\\n')\n",
    "    \n",
    "avg_turns"
   ]
  },
  {
   "cell_type": "code",
   "execution_count": 30,
   "metadata": {},
   "outputs": [
    {
     "data": {
      "text/plain": [
       "Text(0.5, 0, 'score to stop at')"
      ]
     },
     "execution_count": 30,
     "metadata": {},
     "output_type": "execute_result"
    },
    {
     "data": {
      "image/png": "[encoded data removed]",
      "text/plain": [
       "<Figure size 432x288 with 1 Axes>"
      ]
     },
     "metadata": {
      "needs_background": "light"
     },
     "output_type": "display_data"
    }
   ],
   "source": [
    "plt.plot(rng,avg_turns, color = 'blue')\n",
    "plt.ylabel('average # of turns')\n",
    "plt.xlabel('score to stop at')"
   ]
  },
  {
   "cell_type": "code",
   "execution_count": 31,
   "metadata": {},
   "outputs": [
    {
     "data": {
      "text/plain": [
       "Text(0.5, 0, 'score to stop at')"
      ]
     },
     "execution_count": 31,
     "metadata": {},
     "output_type": "execute_result"
    },
    {
     "data": {
      "image/png": "[encoded data removed]",
      "text/plain": [
       "<Figure size 432x288 with 1 Axes>"
      ]
     },
     "metadata": {
      "needs_background": "light"
     },
     "output_type": "display_data"
    }
   ],
   "source": [
    "plt.plot(rng,std_turns, color = 'red')\n",
    "plt.ylabel('sd # of turns')\n",
    "plt.xlabel('score to stop at')"
   ]
  },
  {
   "cell_type": "markdown",
   "metadata": {},
   "source": [
    "## A \"Best\" Strategy"
   ]
  },
  {
   "cell_type": "markdown",
   "metadata": {},
   "source": [
    "From our results, the \"score to stop at\" with the lowest mean (the best strategy) would be #32 (or 16 or 20 using probabilities from wikipedia). Although from our simulation, the variance increases as the score to stop at increases. Thus although this may be an empirically ideal strategy to get consistently the lowest number of turns, it might not mean you win the most. This is worth further investigation -- possibly using game theory."
   ]
  },
  {
   "cell_type": "markdown",
   "metadata": {},
   "source": [
    "It's worth noting that Pass the Pigs is a game to be played not on one's own but against another team. Now this adds another wrinkle. Yes, The goal is still relatively the same -- in that a player wants to reach 100 points faster than their opponent, and the strategy a player may employ could be dependent on the game state. For example, if player 1 is at 50 points but player 2 is at 90 points, player 1 may want to eploy a higher risk, higher reward strategy such that they have a chance to win."
   ]
  },
  {
   "cell_type": "markdown",
   "metadata": {},
   "source": [
    "The idea then, is to employ some game theory in making our decisions."
   ]
  },
  {
   "cell_type": "markdown",
   "metadata": {},
   "source": [
    "## A Dynamic Strategy"
   ]
  },
  {
   "cell_type": "markdown",
   "metadata": {},
   "source": [
    "Let's assume around 32 points is a good stopping point to begin with -- in that on balance, it is the most efficient strategy."
   ]
  },
  {
   "cell_type": "markdown",
   "metadata": {},
   "source": [
    "Intuitively then, we would assume that if the deficeit between you and your opponent is greater then the number to stop at and save would be bigger, whereas if you were ahead of your opponent you would probably take less risks."
   ]
  },
  {
   "cell_type": "markdown",
   "metadata": {},
   "source": [
    "TODO:\n",
    "* Find E(X) for points in a turn given a strategy\n",
    "* Write a new strategy functoin"
   ]
  },
  {
   "cell_type": "code",
   "execution_count": 58,
   "metadata": {},
   "outputs": [
    {
     "data": {
      "text/plain": [
       "(0.0010197984879532454, 7.503033052185397, 3.4179155087984108)"
      ]
     },
     "execution_count": 58,
     "metadata": {},
     "output_type": "execute_result"
    }
   ],
   "source": [
    "pct = total_pct\n",
    "\n",
    "# probabilities of each outcome\n",
    "outcomes_prob = {\n",
    "    'dot' : pct['dot'][0] * pct['nod'][0],\n",
    "    'nod' : pct['dot'][0] * pct['nod'][0],\n",
    "    '2dot' : pct['dot'][0] * pct['dot'][0],\n",
    "    '2nod' : pct['nod'][0] * pct['nod'][0],\n",
    "    '2rzb'   : pct['rzb'][0] * pct['rzb'][0],\n",
    "    'rzb'    : pct['rzb'][0] * (pct['dot'] + pct['nod']) * 2,\n",
    "    '2ttr'   : pct['ttr'][0] * pct['ttr'][0],\n",
    "    'ttr'    : pct['ttr'][0] * (pct['dot'] + pct['nod'] + pct['rzb']) * 2,\n",
    "    '2str'   : pct['str'][0] * pct['str'][0],\n",
    "    'str'    : pct['str'][0] * (1 - pct['otr'] - pct['ljw'] - pct['str']) * 2,\n",
    "    '2ljw'   : pct['ljw'][0] * pct['ljw'][0],\n",
    "    'ljw'    : pct['ljw'][0] * (1 - pct['ljw'] - pct['otr']) * 2,\n",
    "    'otr'    : pct['otr'][0] * 2 - (pct['otr'][0] * pct['otr'])\n",
    "}\n",
    "\n",
    "#expected value for a turn given a goal of points for a turn\n",
    "# TODO FIX THIS\n",
    "def EX_turn(stop_pt=20, pct=total_pct, current_score=0):\n",
    "    print(current_score)\n",
    "    total_score = current_score\n",
    "    \n",
    "    #treat this as a global -- maybe change for style later\n",
    "    for c1 in shortcut:\n",
    "        for c2 in shortcut:\n",
    "            dbl = \"\"\n",
    "            if(c1 == c2): #if we've rolled a double\n",
    "                dbl = \"2\"\n",
    "            p = outcomes_prob[\n",
    "                dbl \n",
    "                + list(scores.keys())[\n",
    "                    list(scores.values()).index(max(scores[c1], scores[c2]))\n",
    "                ]]\n",
    "            turn_score = total_score + score(c1,c2,total_score)\n",
    "            if current_score != 0:\n",
    "                if turn_score >= stop_pt or turn_score <= 0:\n",
    "                    return (total_score + turn_score)\n",
    "                else:\n",
    "                    return p * EX_turn(stop_pt, pct, current_score=turn_score)\n",
    "            else:\n",
    "                print(f'r1: {c1} r2: {c2}\\ttotal: {current_score}\\tturn: {turn_score}')\n",
    "                total_score += p * EX_turn(stop_pt, pct, current_score=turn_score)\n",
    "\n",
    "    return total_score\n",
    "                \n",
    "\n",
    "# if expected value is too hard, assume opponent gets stop value\n",
    "# and use a geometric distribution to see how many turns it would\n",
    "# take to fail\n",
    "def fail_strat(n=20, pct=total_pct):\n",
    "    # maybe use expected turns before failure\n",
    "    # as a function of expected turns to success\n",
    "    f_prob = outcomes_prob['dot'] + outcomes_prob['nod']\n",
    "    turns = n/expected_value(pct)\n",
    "    p = pow(1-(1-f_prob),turns)\n",
    "    mean = 1/f_prob\n",
    "    return (p,mean,turns)\n",
    "    \n",
    "fail_strat()"
   ]
  },
  {
   "cell_type": "code",
   "execution_count": null,
   "metadata": {},
   "outputs": [],
   "source": []
  }
 ],
 "metadata": {
  "kernelspec": {
   "display_name": "Python 3",
   "language": "python",
   "name": "python3"
  },
  "language_info": {
   "codemirror_mode": {
    "name": "ipython",
    "version": 3
   },
   "file_extension": ".py",
   "mimetype": "text/x-python",
   "name": "python",
   "nbconvert_exporter": "python",
   "pygments_lexer": "ipython3",
   "version": "3.6.6"
  }
 },
 "nbformat": 4,
 "nbformat_minor": 2
}
