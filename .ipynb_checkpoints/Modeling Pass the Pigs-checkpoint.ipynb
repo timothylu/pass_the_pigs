{
 "cells": [
  {
   "cell_type": "markdown",
   "metadata": {},
   "source": [
    "# Modeling Pass The Pigs"
   ]
  },
  {
   "cell_type": "markdown",
   "metadata": {},
   "source": [
    "After hours of playing this game at a house-warming party, and again playing it for class, I decided why not figure out a way I can be the best there ever was."
   ]
  },
  {
   "cell_type": "markdown",
   "metadata": {},
   "source": [
    "The information on how to play and what the game is can be found here:\n",
    "https://en.wikipedia.org/wiki/Pass_the_Pigs.\n",
    "Essentially this game is dice with pigs instead of dice."
   ]
  },
  {
   "cell_type": "markdown",
   "metadata": {},
   "source": [
    "## Strategy"
   ]
  },
  {
   "cell_type": "markdown",
   "metadata": {},
   "source": [
    "* Get input data from my class\n",
    "    * Look for probabilities of outcomes for each dice\n",
    "    * Maybe look at distributions for outcomes of each dice roll\n",
    "* Simulate\n",
    "* ??\n",
    "\n"
   ]
  },
  {
   "cell_type": "markdown",
   "metadata": {},
   "source": [
    "## Read the Data"
   ]
  },
  {
   "cell_type": "markdown",
   "metadata": {},
   "source": [
    "First we read in the data from all teams in my class."
   ]
  },
  {
   "cell_type": "code",
   "execution_count": 6,
   "metadata": {},
   "outputs": [
    {
     "data": {
      "text/html": [
       "<div>\n",
       "<style scoped>\n",
       "    .dataframe tbody tr th:only-of-type {\n",
       "        vertical-align: middle;\n",
       "    }\n",
       "\n",
       "    .dataframe tbody tr th {\n",
       "        vertical-align: top;\n",
       "    }\n",
       "\n",
       "    .dataframe thead th {\n",
       "        text-align: right;\n",
       "    }\n",
       "</style>\n",
       "<table border=\"1\" class=\"dataframe\">\n",
       "  <thead>\n",
       "    <tr style=\"text-align: right;\">\n",
       "      <th></th>\n",
       "      <th>dot</th>\n",
       "      <th>dot_f</th>\n",
       "      <th>razorback</th>\n",
       "      <th>trotter</th>\n",
       "      <th>snouter</th>\n",
       "      <th>leaning_jowler</th>\n",
       "      <th>other</th>\n",
       "    </tr>\n",
       "  </thead>\n",
       "  <tbody>\n",
       "    <tr>\n",
       "      <th>0</th>\n",
       "      <td>38</td>\n",
       "      <td>52</td>\n",
       "      <td>45</td>\n",
       "      <td>17</td>\n",
       "      <td>2</td>\n",
       "      <td>0</td>\n",
       "      <td>1</td>\n",
       "    </tr>\n",
       "    <tr>\n",
       "      <th>1</th>\n",
       "      <td>19</td>\n",
       "      <td>32</td>\n",
       "      <td>32</td>\n",
       "      <td>4</td>\n",
       "      <td>3</td>\n",
       "      <td>0</td>\n",
       "      <td>0</td>\n",
       "    </tr>\n",
       "    <tr>\n",
       "      <th>2</th>\n",
       "      <td>14</td>\n",
       "      <td>26</td>\n",
       "      <td>20</td>\n",
       "      <td>7</td>\n",
       "      <td>3</td>\n",
       "      <td>0</td>\n",
       "      <td>2</td>\n",
       "    </tr>\n",
       "    <tr>\n",
       "      <th>3</th>\n",
       "      <td>14</td>\n",
       "      <td>21</td>\n",
       "      <td>25</td>\n",
       "      <td>5</td>\n",
       "      <td>1</td>\n",
       "      <td>0</td>\n",
       "      <td>3</td>\n",
       "    </tr>\n",
       "    <tr>\n",
       "      <th>4</th>\n",
       "      <td>15</td>\n",
       "      <td>27</td>\n",
       "      <td>40</td>\n",
       "      <td>13</td>\n",
       "      <td>5</td>\n",
       "      <td>0</td>\n",
       "      <td>0</td>\n",
       "    </tr>\n",
       "    <tr>\n",
       "      <th>5</th>\n",
       "      <td>32</td>\n",
       "      <td>45</td>\n",
       "      <td>43</td>\n",
       "      <td>10</td>\n",
       "      <td>9</td>\n",
       "      <td>0</td>\n",
       "      <td>0</td>\n",
       "    </tr>\n",
       "    <tr>\n",
       "      <th>6</th>\n",
       "      <td>16</td>\n",
       "      <td>24</td>\n",
       "      <td>20</td>\n",
       "      <td>6</td>\n",
       "      <td>1</td>\n",
       "      <td>1</td>\n",
       "      <td>2</td>\n",
       "    </tr>\n",
       "    <tr>\n",
       "      <th>7</th>\n",
       "      <td>16</td>\n",
       "      <td>50</td>\n",
       "      <td>53</td>\n",
       "      <td>13</td>\n",
       "      <td>4</td>\n",
       "      <td>1</td>\n",
       "      <td>0</td>\n",
       "    </tr>\n",
       "    <tr>\n",
       "      <th>8</th>\n",
       "      <td>24</td>\n",
       "      <td>23</td>\n",
       "      <td>17</td>\n",
       "      <td>7</td>\n",
       "      <td>0</td>\n",
       "      <td>3</td>\n",
       "      <td>0</td>\n",
       "    </tr>\n",
       "    <tr>\n",
       "      <th>9</th>\n",
       "      <td>13</td>\n",
       "      <td>25</td>\n",
       "      <td>38</td>\n",
       "      <td>12</td>\n",
       "      <td>3</td>\n",
       "      <td>2</td>\n",
       "      <td>4</td>\n",
       "    </tr>\n",
       "    <tr>\n",
       "      <th>10</th>\n",
       "      <td>14</td>\n",
       "      <td>25</td>\n",
       "      <td>22</td>\n",
       "      <td>4</td>\n",
       "      <td>1</td>\n",
       "      <td>0</td>\n",
       "      <td>2</td>\n",
       "    </tr>\n",
       "  </tbody>\n",
       "</table>\n",
       "</div>"
      ],
      "text/plain": [
       "    dot  dot_f  razorback  trotter  snouter  leaning_jowler  other\n",
       "0    38     52         45       17        2               0      1\n",
       "1    19     32         32        4        3               0      0\n",
       "2    14     26         20        7        3               0      2\n",
       "3    14     21         25        5        1               0      3\n",
       "4    15     27         40       13        5               0      0\n",
       "5    32     45         43       10        9               0      0\n",
       "6    16     24         20        6        1               1      2\n",
       "7    16     50         53       13        4               1      0\n",
       "8    24     23         17        7        0               3      0\n",
       "9    13     25         38       12        3               2      4\n",
       "10   14     25         22        4        1               0      2"
      ]
     },
     "execution_count": 6,
     "metadata": {},
     "output_type": "execute_result"
    }
   ],
   "source": [
    "import pandas as pd\n",
    "\n",
    "data = pd.read_csv(\"pass_the_pigs.csv\")\n",
    "data"
   ]
  },
  {
   "cell_type": "markdown",
   "metadata": {},
   "source": [
    "Even though the data looks a bit uneven, we find the percentage that each outcome was found as well as the standard deviation for each outcome for each class."
   ]
  },
  {
   "cell_type": "code",
   "execution_count": 39,
   "metadata": {},
   "outputs": [],
   "source": [
    "total_rolls = data.values.sum()\n",
    "\n",
    "#keys for shorthand, I may want to actually type these out in future or just use a basic conversion\n",
    "keys = {\n",
    "    'dot' : 'dot',\n",
    "    'dot_f' : 'nod',\n",
    "    'razorback' : 'rzb',\n",
    "    'trotter' : 'ttr',\n",
    "    'snouter' : 'str',\n",
    "    'leaning_jowler' : 'ljw',\n",
    "    'other' : 'otr'\n",
    "}\n",
    "\n",
    "#find percentages for each row to calculate standard deviation\n",
    "cols = list(keys.keys())\n",
    "\n",
    "pct_data = data\n",
    "pct_data[cols] = data[cols].div(data[cols].sum(axis=1), axis=0)\n",
    "\n",
    "pct_std = pd.DataFrame([pct_data[cols].std()])\n",
    "\n",
    "pct_std.rename(columns=keys, inplace='True')\n",
    "\n",
    "\n",
    "# use shorthand for some of these, populate a dictionary of percentages\n",
    "total_pct = pd.DataFrame.from_dict({\n",
    "    'dot' : [data['dot'].sum()/total_rolls],\n",
    "    'nod' : [data['dot_f'].sum()/total_rolls],\n",
    "    'rzb' : [data['razorback'].sum()/total_rolls],\n",
    "    'ttr' : [data['trotter'].sum()/total_rolls],\n",
    "    'str' : [data['snouter'].sum()/total_rolls],\n",
    "    'ljw' : [data['leaning_jowler'].sum()/total_rolls],\n",
    "    'otr' : [data['other'].sum()/total_rolls]\n",
    "})\n",
    "\n",
    "\n",
    "# input of relative frequencies from wikipedia\n",
    "wiki_pct = pd.DataFrame.from_dict({\n",
    "    'dot' : [.349],\n",
    "    'nod' : [.302],\n",
    "    'rzb' : [.224],\n",
    "    'ttr' : [.088],\n",
    "    'str' : [.030],\n",
    "    'ljw' : [.0061],\n",
    "    'otr' : [.0009]\n",
    "})"
   ]
  },
  {
   "cell_type": "code",
   "execution_count": 35,
   "metadata": {},
   "outputs": [
    {
     "data": {
      "text/html": [
       "<div>\n",
       "<style scoped>\n",
       "    .dataframe tbody tr th:only-of-type {\n",
       "        vertical-align: middle;\n",
       "    }\n",
       "\n",
       "    .dataframe tbody tr th {\n",
       "        vertical-align: top;\n",
       "    }\n",
       "\n",
       "    .dataframe thead th {\n",
       "        text-align: right;\n",
       "    }\n",
       "</style>\n",
       "<table border=\"1\" class=\"dataframe\">\n",
       "  <thead>\n",
       "    <tr style=\"text-align: right;\">\n",
       "      <th></th>\n",
       "      <th>dot</th>\n",
       "      <th>nod</th>\n",
       "      <th>rzb</th>\n",
       "      <th>ttr</th>\n",
       "      <th>str</th>\n",
       "      <th>ljw</th>\n",
       "      <th>otr</th>\n",
       "    </tr>\n",
       "  </thead>\n",
       "  <tbody>\n",
       "    <tr>\n",
       "      <th>0</th>\n",
       "      <td>0.057471</td>\n",
       "      <td>0.03772</td>\n",
       "      <td>0.055139</td>\n",
       "      <td>0.026299</td>\n",
       "      <td>0.019023</td>\n",
       "      <td>0.013052</td>\n",
       "      <td>0.017999</td>\n",
       "    </tr>\n",
       "  </tbody>\n",
       "</table>\n",
       "</div>"
      ],
      "text/plain": [
       "        dot      nod       rzb       ttr       str       ljw       otr\n",
       "0  0.057471  0.03772  0.055139  0.026299  0.019023  0.013052  0.017999"
      ]
     },
     "execution_count": 35,
     "metadata": {},
     "output_type": "execute_result"
    }
   ],
   "source": [
    "#Standard Deviations of each proportion\n",
    "pct_std"
   ]
  },
  {
   "cell_type": "code",
   "execution_count": 38,
   "metadata": {
    "scrolled": true
   },
   "outputs": [
    {
     "data": {
      "text/html": [
       "<div>\n",
       "<style scoped>\n",
       "    .dataframe tbody tr th:only-of-type {\n",
       "        vertical-align: middle;\n",
       "    }\n",
       "\n",
       "    .dataframe tbody tr th {\n",
       "        vertical-align: top;\n",
       "    }\n",
       "\n",
       "    .dataframe thead th {\n",
       "        text-align: right;\n",
       "    }\n",
       "</style>\n",
       "<table border=\"1\" class=\"dataframe\">\n",
       "  <thead>\n",
       "    <tr style=\"text-align: right;\">\n",
       "      <th></th>\n",
       "      <th>dot</th>\n",
       "      <th>nod</th>\n",
       "      <th>rzb</th>\n",
       "      <th>ttr</th>\n",
       "      <th>str</th>\n",
       "      <th>ljw</th>\n",
       "      <th>otr</th>\n",
       "    </tr>\n",
       "  </thead>\n",
       "  <tbody>\n",
       "    <tr>\n",
       "      <th>0</th>\n",
       "      <td>0.203947</td>\n",
       "      <td>0.32675</td>\n",
       "      <td>0.328447</td>\n",
       "      <td>0.089408</td>\n",
       "      <td>0.027842</td>\n",
       "      <td>0.007522</td>\n",
       "      <td>0.016084</td>\n",
       "    </tr>\n",
       "  </tbody>\n",
       "</table>\n",
       "</div>"
      ],
      "text/plain": [
       "        dot      nod       rzb       ttr       str       ljw       otr\n",
       "0  0.203947  0.32675  0.328447  0.089408  0.027842  0.007522  0.016084"
      ]
     },
     "execution_count": 38,
     "metadata": {},
     "output_type": "execute_result"
    }
   ],
   "source": [
    "#total proportions or the average proportion of values\n",
    "total_pct"
   ]
  },
  {
   "cell_type": "markdown",
   "metadata": {},
   "source": [
    "https://en.wikipedia.org/wiki/Pass_the_Pigs#Relative_frequencies"
   ]
  },
  {
   "cell_type": "code",
   "execution_count": 40,
   "metadata": {},
   "outputs": [
    {
     "data": {
      "text/html": [
       "<div>\n",
       "<style scoped>\n",
       "    .dataframe tbody tr th:only-of-type {\n",
       "        vertical-align: middle;\n",
       "    }\n",
       "\n",
       "    .dataframe tbody tr th {\n",
       "        vertical-align: top;\n",
       "    }\n",
       "\n",
       "    .dataframe thead th {\n",
       "        text-align: right;\n",
       "    }\n",
       "</style>\n",
       "<table border=\"1\" class=\"dataframe\">\n",
       "  <thead>\n",
       "    <tr style=\"text-align: right;\">\n",
       "      <th></th>\n",
       "      <th>dot</th>\n",
       "      <th>nod</th>\n",
       "      <th>rzb</th>\n",
       "      <th>ttr</th>\n",
       "      <th>str</th>\n",
       "      <th>ljw</th>\n",
       "      <th>otr</th>\n",
       "    </tr>\n",
       "  </thead>\n",
       "  <tbody>\n",
       "    <tr>\n",
       "      <th>0</th>\n",
       "      <td>0.349</td>\n",
       "      <td>0.302</td>\n",
       "      <td>0.224</td>\n",
       "      <td>0.088</td>\n",
       "      <td>0.03</td>\n",
       "      <td>0.0061</td>\n",
       "      <td>0.0009</td>\n",
       "    </tr>\n",
       "  </tbody>\n",
       "</table>\n",
       "</div>"
      ],
      "text/plain": [
       "     dot    nod    rzb    ttr   str     ljw     otr\n",
       "0  0.349  0.302  0.224  0.088  0.03  0.0061  0.0009"
      ]
     },
     "execution_count": 40,
     "metadata": {},
     "output_type": "execute_result"
    }
   ],
   "source": [
    "#relative frequencies from Wikipedia \n",
    "wiki_pct"
   ]
  },
  {
   "cell_type": "markdown",
   "metadata": {},
   "source": [
    "What we have now are sampling distributions of the proportions from a sample of size 14 in DataFrames."
   ]
  },
  {
   "cell_type": "markdown",
   "metadata": {},
   "source": [
    "## Statistics to Note"
   ]
  },
  {
   "cell_type": "markdown",
   "metadata": {},
   "source": [
    "First, we take a look at the expected values for each outcome. This is a combination of score and probability. https://en.wikipedia.org/wiki/Pass_the_Pigs#Scoring"
   ]
  },
  {
   "cell_type": "code",
   "execution_count": null,
   "metadata": {},
   "outputs": [],
   "source": []
  },
  {
   "cell_type": "markdown",
   "metadata": {},
   "source": [
    "## Strategies"
   ]
  },
  {
   "cell_type": "code",
   "execution_count": null,
   "metadata": {},
   "outputs": [],
   "source": []
  }
 ],
 "metadata": {
  "kernelspec": {
   "display_name": "Python 3",
   "language": "python",
   "name": "python3"
  },
  "language_info": {
   "codemirror_mode": {
    "name": "ipython",
    "version": 3
   },
   "file_extension": ".py",
   "mimetype": "text/x-python",
   "name": "python",
   "nbconvert_exporter": "python",
   "pygments_lexer": "ipython3",
   "version": "3.6.6"
  }
 },
 "nbformat": 4,
 "nbformat_minor": 2
}
