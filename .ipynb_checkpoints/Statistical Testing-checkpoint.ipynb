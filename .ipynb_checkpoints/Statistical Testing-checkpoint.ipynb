{
 "cells": [
  {
   "cell_type": "markdown",
   "metadata": {},
   "source": [
    "# Statistical Testing"
   ]
  },
  {
   "cell_type": "markdown",
   "metadata": {},
   "source": [
    "Let's see if the relative frequencies from the table in wikipedia (https://en.wikipedia.org/wiki/Pass_the_Pigs#Relative_frequencies) reflects the data we get from the trials in our class. First, we read in the data again."
   ]
  },
  {
   "cell_type": "code",
   "execution_count": 19,
   "metadata": {},
   "outputs": [
    {
     "data": {
      "text/html": [
       "<div>\n",
       "<style scoped>\n",
       "    .dataframe tbody tr th:only-of-type {\n",
       "        vertical-align: middle;\n",
       "    }\n",
       "\n",
       "    .dataframe tbody tr th {\n",
       "        vertical-align: top;\n",
       "    }\n",
       "\n",
       "    .dataframe thead th {\n",
       "        text-align: right;\n",
       "    }\n",
       "</style>\n",
       "<table border=\"1\" class=\"dataframe\">\n",
       "  <thead>\n",
       "    <tr style=\"text-align: right;\">\n",
       "      <th></th>\n",
       "      <th>dot</th>\n",
       "      <th>dot_f</th>\n",
       "      <th>razorback</th>\n",
       "      <th>trotter</th>\n",
       "      <th>snouter</th>\n",
       "      <th>leaning_jowler</th>\n",
       "      <th>other</th>\n",
       "    </tr>\n",
       "  </thead>\n",
       "  <tbody>\n",
       "    <tr>\n",
       "      <th>0</th>\n",
       "      <td>38</td>\n",
       "      <td>52</td>\n",
       "      <td>45</td>\n",
       "      <td>17</td>\n",
       "      <td>2</td>\n",
       "      <td>0</td>\n",
       "      <td>1</td>\n",
       "    </tr>\n",
       "    <tr>\n",
       "      <th>1</th>\n",
       "      <td>19</td>\n",
       "      <td>32</td>\n",
       "      <td>32</td>\n",
       "      <td>4</td>\n",
       "      <td>3</td>\n",
       "      <td>0</td>\n",
       "      <td>0</td>\n",
       "    </tr>\n",
       "    <tr>\n",
       "      <th>2</th>\n",
       "      <td>14</td>\n",
       "      <td>26</td>\n",
       "      <td>20</td>\n",
       "      <td>7</td>\n",
       "      <td>3</td>\n",
       "      <td>0</td>\n",
       "      <td>2</td>\n",
       "    </tr>\n",
       "    <tr>\n",
       "      <th>3</th>\n",
       "      <td>14</td>\n",
       "      <td>21</td>\n",
       "      <td>25</td>\n",
       "      <td>5</td>\n",
       "      <td>1</td>\n",
       "      <td>0</td>\n",
       "      <td>3</td>\n",
       "    </tr>\n",
       "    <tr>\n",
       "      <th>4</th>\n",
       "      <td>15</td>\n",
       "      <td>27</td>\n",
       "      <td>40</td>\n",
       "      <td>13</td>\n",
       "      <td>5</td>\n",
       "      <td>0</td>\n",
       "      <td>0</td>\n",
       "    </tr>\n",
       "    <tr>\n",
       "      <th>5</th>\n",
       "      <td>32</td>\n",
       "      <td>45</td>\n",
       "      <td>43</td>\n",
       "      <td>10</td>\n",
       "      <td>9</td>\n",
       "      <td>0</td>\n",
       "      <td>0</td>\n",
       "    </tr>\n",
       "    <tr>\n",
       "      <th>6</th>\n",
       "      <td>16</td>\n",
       "      <td>24</td>\n",
       "      <td>20</td>\n",
       "      <td>6</td>\n",
       "      <td>1</td>\n",
       "      <td>1</td>\n",
       "      <td>2</td>\n",
       "    </tr>\n",
       "    <tr>\n",
       "      <th>7</th>\n",
       "      <td>16</td>\n",
       "      <td>50</td>\n",
       "      <td>53</td>\n",
       "      <td>13</td>\n",
       "      <td>4</td>\n",
       "      <td>1</td>\n",
       "      <td>0</td>\n",
       "    </tr>\n",
       "    <tr>\n",
       "      <th>8</th>\n",
       "      <td>24</td>\n",
       "      <td>23</td>\n",
       "      <td>17</td>\n",
       "      <td>7</td>\n",
       "      <td>0</td>\n",
       "      <td>3</td>\n",
       "      <td>0</td>\n",
       "    </tr>\n",
       "    <tr>\n",
       "      <th>9</th>\n",
       "      <td>13</td>\n",
       "      <td>25</td>\n",
       "      <td>38</td>\n",
       "      <td>12</td>\n",
       "      <td>3</td>\n",
       "      <td>2</td>\n",
       "      <td>4</td>\n",
       "    </tr>\n",
       "    <tr>\n",
       "      <th>10</th>\n",
       "      <td>14</td>\n",
       "      <td>25</td>\n",
       "      <td>22</td>\n",
       "      <td>4</td>\n",
       "      <td>1</td>\n",
       "      <td>0</td>\n",
       "      <td>2</td>\n",
       "    </tr>\n",
       "  </tbody>\n",
       "</table>\n",
       "</div>"
      ],
      "text/plain": [
       "    dot  dot_f  razorback  trotter  snouter  leaning_jowler  other\n",
       "0    38     52         45       17        2               0      1\n",
       "1    19     32         32        4        3               0      0\n",
       "2    14     26         20        7        3               0      2\n",
       "3    14     21         25        5        1               0      3\n",
       "4    15     27         40       13        5               0      0\n",
       "5    32     45         43       10        9               0      0\n",
       "6    16     24         20        6        1               1      2\n",
       "7    16     50         53       13        4               1      0\n",
       "8    24     23         17        7        0               3      0\n",
       "9    13     25         38       12        3               2      4\n",
       "10   14     25         22        4        1               0      2"
      ]
     },
     "execution_count": 19,
     "metadata": {},
     "output_type": "execute_result"
    }
   ],
   "source": [
    "import pandas as pd\n",
    "\n",
    "data = pd.read_csv(\"pass_the_pigs.csv\")\n",
    "data"
   ]
  },
  {
   "cell_type": "code",
   "execution_count": 23,
   "metadata": {},
   "outputs": [],
   "source": [
    "#keys for shorthand, I may want to actually type these out in future or just use a basic conversion\n",
    "keys = {\n",
    "    'dot' : 'dot',\n",
    "    'dot_f' : 'nod',\n",
    "    'razorback' : 'rzb',\n",
    "    'trotter' : 'ttr',\n",
    "    'snouter' : 'str',\n",
    "    'leaning_jowler' : 'ljw',\n",
    "    'other' : 'otr'\n",
    "}\n",
    "\n",
    "#find percentages for each row to calculate standard deviation\n",
    "cols = list(keys.keys())\n",
    "shortcut = list(keys.values())\n",
    "\n",
    "\n",
    "total_counts = data.sum()\n",
    "\n",
    "#pct_data.rename(columns=keys, inplace='True')\n",
    "\n",
    "# input of relative frequencies from wikipedia\n",
    "wiki_pct = pd.DataFrame.from_dict({\n",
    "    'dot' : [.349],\n",
    "    'nod' : [.302],\n",
    "    'rzb' : [.224],\n",
    "    'ttr' : [.088],\n",
    "    'str' : [.030],\n",
    "    'ljw' : [.0061],\n",
    "    'otr' : [.0009]\n",
    "})"
   ]
  },
  {
   "cell_type": "code",
   "execution_count": 24,
   "metadata": {},
   "outputs": [
    {
     "data": {
      "text/plain": [
       "dot               215\n",
       "dot_f             350\n",
       "razorback         355\n",
       "trotter            98\n",
       "snouter            32\n",
       "leaning_jowler      7\n",
       "other              14\n",
       "dtype: int64"
      ]
     },
     "execution_count": 24,
     "metadata": {},
     "output_type": "execute_result"
    }
   ],
   "source": [
    "#total # of occurences for each outcome\n",
    "total_counts"
   ]
  },
  {
   "cell_type": "code",
   "execution_count": 25,
   "metadata": {},
   "outputs": [
    {
     "data": {
      "text/html": [
       "<div>\n",
       "<style scoped>\n",
       "    .dataframe tbody tr th:only-of-type {\n",
       "        vertical-align: middle;\n",
       "    }\n",
       "\n",
       "    .dataframe tbody tr th {\n",
       "        vertical-align: top;\n",
       "    }\n",
       "\n",
       "    .dataframe thead th {\n",
       "        text-align: right;\n",
       "    }\n",
       "</style>\n",
       "<table border=\"1\" class=\"dataframe\">\n",
       "  <thead>\n",
       "    <tr style=\"text-align: right;\">\n",
       "      <th></th>\n",
       "      <th>dot</th>\n",
       "      <th>nod</th>\n",
       "      <th>rzb</th>\n",
       "      <th>ttr</th>\n",
       "      <th>str</th>\n",
       "      <th>ljw</th>\n",
       "      <th>otr</th>\n",
       "    </tr>\n",
       "  </thead>\n",
       "  <tbody>\n",
       "    <tr>\n",
       "      <th>0</th>\n",
       "      <td>0.349</td>\n",
       "      <td>0.302</td>\n",
       "      <td>0.224</td>\n",
       "      <td>0.088</td>\n",
       "      <td>0.03</td>\n",
       "      <td>0.0061</td>\n",
       "      <td>0.0009</td>\n",
       "    </tr>\n",
       "  </tbody>\n",
       "</table>\n",
       "</div>"
      ],
      "text/plain": [
       "     dot    nod    rzb    ttr   str     ljw     otr\n",
       "0  0.349  0.302  0.224  0.088  0.03  0.0061  0.0009"
      ]
     },
     "execution_count": 25,
     "metadata": {},
     "output_type": "execute_result"
    }
   ],
   "source": [
    "#relative frequencies from Wikipedia \n",
    "wiki_pct"
   ]
  },
  {
   "cell_type": "markdown",
   "metadata": {},
   "source": [
    "What we want to look at here is the result of a $\\chi^2$ test. "
   ]
  },
  {
   "cell_type": "markdown",
   "metadata": {},
   "source": [
    "## $\\chi^2$ Test of Proportions"
   ]
  },
  {
   "cell_type": "markdown",
   "metadata": {},
   "source": [
    "Let the null hypothesis $H_{0}$ be:\n",
    "\n",
    "$H_{0}:$ The expected proportions from Wikipedia are consistent with the findings of our samples.\n",
    "\n",
    "Let the alternative hypothesis $H_{a}$ be:\n",
    "\n",
    "$H_{a}:$ The expected proportions from Wikipedia are not consistent with the findings of our samples.\n",
    "\n",
    "Let $\\alpha$ significance level be 0.05"
   ]
  },
  {
   "cell_type": "code",
   "execution_count": 34,
   "metadata": {},
   "outputs": [
    {
     "data": {
      "text/plain": [
       "array([[373.779 , 323.442 , 239.904 ,  94.248 ,  32.13  ,   6.5331,\n",
       "          0.9639]])"
      ]
     },
     "execution_count": 34,
     "metadata": {},
     "output_type": "execute_result"
    }
   ],
   "source": [
    "import scipy.stats as stat\n",
    "import numpy as np\n",
    "\n",
    "expected = np.array(wiki_pct.values) * np.sum(total_counts.values)\n",
    "expected"
   ]
  },
  {
   "cell_type": "code",
   "execution_count": 35,
   "metadata": {},
   "outputs": [
    {
     "data": {
      "text/plain": [
       "Power_divergenceResult(statistic=301.335074306209, pvalue=4.233447373297275e-62)"
      ]
     },
     "execution_count": 35,
     "metadata": {},
     "output_type": "execute_result"
    }
   ],
   "source": [
    "stat.chisquare(total_counts.values, f_exp=expected[0])"
   ]
  },
  {
   "cell_type": "markdown",
   "metadata": {},
   "source": [
    "From the result above, we see that the $p-value=4.423\\times 10^{-62} < (\\alpha = 0.05)$. Thus, we reject the null hypothesis that the expected proportions from Wikipedia are consistent with our findings in favor of the alternative hypothesis."
   ]
  },
  {
   "cell_type": "markdown",
   "metadata": {},
   "source": [
    "What this means is that either the values from Wikipedia are unreliable, or the findings from our classroom tests were widely skewed. For the purposes of my simulations, then, I will use the proportions found empirically from our class."
   ]
  },
  {
   "cell_type": "code",
   "execution_count": null,
   "metadata": {},
   "outputs": [],
   "source": []
  }
 ],
 "metadata": {
  "kernelspec": {
   "display_name": "Python 3",
   "language": "python",
   "name": "python3"
  },
  "language_info": {
   "codemirror_mode": {
    "name": "ipython",
    "version": 3
   },
   "file_extension": ".py",
   "mimetype": "text/x-python",
   "name": "python",
   "nbconvert_exporter": "python",
   "pygments_lexer": "ipython3",
   "version": "3.6.6"
  }
 },
 "nbformat": 4,
 "nbformat_minor": 2
}
